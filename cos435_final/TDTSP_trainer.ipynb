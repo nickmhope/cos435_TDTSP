{
 "cells": [
  {
   "cell_type": "code",
   "execution_count": 3,
   "metadata": {},
   "outputs": [
    {
     "name": "stdout",
     "output_type": "stream",
     "text": [
      "The autoreload extension is already loaded. To reload it, use:\n",
      "  %reload_ext autoreload\n"
     ]
    }
   ],
   "source": [
    "%load_ext autoreload\n",
    "%autoreload 2\n",
    "\n",
    "import numpy as np\n",
    "from poly_matrix import polynomial, create_poly_matrix\n",
    "from city_env import CityEnv  # make sure the env class is renamed properly if needed\n",
    "from stable_baselines3 import PPO\n",
    "import gymnasium as gym\n",
    "from stable_baselines3.common.env_util import make_vec_env\n",
    "import matplotlib.pyplot as plt"
   ]
  },
  {
   "cell_type": "code",
   "execution_count": 4,
   "metadata": {},
   "outputs": [],
   "source": [
    "# Initialize environment\n",
    "N = 40\n",
    "T = 24\n",
    "poly_matrix = create_poly_matrix(N, T)\n",
    "\n",
    "def make_env():\n",
    "    return CityEnv(poly_matrix=poly_matrix, N=N, time_horizon=T)\n",
    "\n",
    "env = make_vec_env(make_env, n_envs=50)"
   ]
  },
  {
   "cell_type": "code",
   "execution_count": 5,
   "metadata": {},
   "outputs": [],
   "source": [
    "# Initialize benchmark set and savefile for model\n",
    "benchmark_size = 100\n",
    "destination_set = [np.random.choice([0, 1], size=N) for i in range(benchmark_size)]\n",
    "start_node_set = np.random.choice(np.arange(N), size = benchmark_size)\n",
    "start_time_set = np.random.uniform(low = 0, high = 24, size = benchmark_size)\n",
    "savefile_name = 'N40_test'"
   ]
  },
  {
   "cell_type": "code",
   "execution_count": 10,
   "metadata": {},
   "outputs": [],
   "source": [
    "# define helper function for model evaluation\n",
    "def eval_func(model):\n",
    "    eval_env = CityEnv(poly_matrix=poly_matrix, N=N, time_horizon=T)\n",
    "    average_time = 0\n",
    "    for i in range(benchmark_size):\n",
    "        benchmark_element = {\n",
    "        \"destinations\": destination_set[i].copy(),\n",
    "        \"current_time\": start_time_set[i],\n",
    "        \"current_node\": start_node_set[i] }\n",
    "        obs, _ = eval_env.reset(eval_params=benchmark_element or {})\n",
    "        done = False\n",
    "        truncated = False\n",
    "        total_reward = 0.0\n",
    "\n",
    "        while not (done or truncated):\n",
    "            #print(obs)\n",
    "            action, _ = model.predict(obs, deterministic=True)\n",
    "            #print(action)\n",
    "            obs, reward, done, truncated, _ = eval_env.step(action)\n",
    "            \n",
    "            total_reward += reward\n",
    "            if truncated and not done:\n",
    "                print(f'WARNING: TRUNCATION on benchmark example {i}')\n",
    "        average_time += eval_env.current_time / benchmark_size\n",
    "        avg_reward = total_reward / benchmark_size\n",
    "\n",
    "    return average_time, avg_reward"
   ]
  },
  {
   "cell_type": "code",
   "execution_count": 7,
   "metadata": {},
   "outputs": [],
   "source": [
    "def visualize_poly_matrix(poly_matrix):\n",
    "  for i in range(N):\n",
    "    for j in range(N):\n",
    "      vals = [poly_matrix[i][j].eval(t) for t in range(T)]\n",
    "      plt.plot(vals, label=f\"poly_matrix[{i}][{j}]\")\n",
    "  plt.show()"
   ]
  },
  {
   "cell_type": "code",
   "execution_count": 8,
   "metadata": {},
   "outputs": [],
   "source": [
    "# create and save model\n",
    "model = PPO(\"MlpPolicy\", env, verbose=0)\n",
    "model.save(savefile_name)"
   ]
  },
  {
   "cell_type": "code",
   "execution_count": null,
   "metadata": {},
   "outputs": [
    {
     "name": "stdout",
     "output_type": "stream",
     "text": [
      "Training epoch:  0\n",
      "WARNING: TRUNCATION on benchmark example 0\n",
      "WARNING: TRUNCATION on benchmark example 1\n",
      "WARNING: TRUNCATION on benchmark example 2\n",
      "WARNING: TRUNCATION on benchmark example 3\n",
      "WARNING: TRUNCATION on benchmark example 4\n",
      "WARNING: TRUNCATION on benchmark example 5\n",
      "WARNING: TRUNCATION on benchmark example 6\n",
      "WARNING: TRUNCATION on benchmark example 7\n",
      "WARNING: TRUNCATION on benchmark example 8\n",
      "WARNING: TRUNCATION on benchmark example 9\n",
      "WARNING: TRUNCATION on benchmark example 10\n",
      "WARNING: TRUNCATION on benchmark example 11\n",
      "WARNING: TRUNCATION on benchmark example 12\n",
      "WARNING: TRUNCATION on benchmark example 13\n",
      "WARNING: TRUNCATION on benchmark example 14\n",
      "WARNING: TRUNCATION on benchmark example 15\n",
      "WARNING: TRUNCATION on benchmark example 16\n",
      "WARNING: TRUNCATION on benchmark example 17\n",
      "WARNING: TRUNCATION on benchmark example 18\n",
      "WARNING: TRUNCATION on benchmark example 19\n",
      "WARNING: TRUNCATION on benchmark example 20\n",
      "WARNING: TRUNCATION on benchmark example 21\n",
      "WARNING: TRUNCATION on benchmark example 22\n",
      "WARNING: TRUNCATION on benchmark example 23\n",
      "WARNING: TRUNCATION on benchmark example 24\n",
      "WARNING: TRUNCATION on benchmark example 25\n",
      "WARNING: TRUNCATION on benchmark example 26\n",
      "WARNING: TRUNCATION on benchmark example 27\n",
      "WARNING: TRUNCATION on benchmark example 28\n",
      "WARNING: TRUNCATION on benchmark example 29\n",
      "WARNING: TRUNCATION on benchmark example 30\n",
      "WARNING: TRUNCATION on benchmark example 31\n",
      "WARNING: TRUNCATION on benchmark example 32\n",
      "WARNING: TRUNCATION on benchmark example 33\n",
      "WARNING: TRUNCATION on benchmark example 34\n",
      "WARNING: TRUNCATION on benchmark example 35\n",
      "WARNING: TRUNCATION on benchmark example 36\n",
      "WARNING: TRUNCATION on benchmark example 37\n"
     ]
    }
   ],
   "source": [
    "benchmark_average_travel_times = []\n",
    "benchmark_average_rewards = []\n",
    "for i in range(50):\n",
    "    print('Training epoch: ', i)\n",
    "    model = PPO.load(savefile_name, env = env)\n",
    "    model.learn(total_timesteps=10_000)\n",
    "    benchmark_time, average_reward = eval_func(model)\n",
    "    print('Benchmark time', benchmark_time, 'Average reward', average_reward)\n",
    "    benchmark_average_travel_times.append(benchmark_time)\n",
    "    benchmark_average_rewards.append(average_reward)\n",
    "    model.save(savefile_name)"
   ]
  },
  {
   "cell_type": "code",
   "execution_count": null,
   "metadata": {},
   "outputs": [],
   "source": []
  }
 ],
 "metadata": {
  "kernelspec": {
   "display_name": "Python 3",
   "language": "python",
   "name": "python3"
  },
  "language_info": {
   "codemirror_mode": {
    "name": "ipython",
    "version": 3
   },
   "file_extension": ".py",
   "mimetype": "text/x-python",
   "name": "python",
   "nbconvert_exporter": "python",
   "pygments_lexer": "ipython3",
   "version": "3.10.9"
  }
 },
 "nbformat": 4,
 "nbformat_minor": 2
}
