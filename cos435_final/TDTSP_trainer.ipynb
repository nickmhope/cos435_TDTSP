{
 "cells": [
  {
   "cell_type": "code",
   "execution_count": null,
   "metadata": {},
   "outputs": [
    {
     "name": "stdout",
     "output_type": "stream",
     "text": [
      "The autoreload extension is already loaded. To reload it, use:\n",
      "  %reload_ext autoreload\n"
     ]
    }
   ],
   "source": [
    "%load_ext autoreload\n",
    "%autoreload 2\n",
    "import numpy as np\n",
    "from poly_matrix import polynomial, create_poly_matrix # custome type we implement\n",
    "from city_env import CityEnv  # gym environment we implement\n",
    "# CITATION:\n",
    "# Raffin, A., Hill, A., Gleave, A., Kanervisto, A., Dormann, N., et al. (2021). Stable-baselines3: Reli-\n",
    "# able reinforcement learning implementations. https://github.com/DLR-RM/stable-baselines3.\n",
    "from stable_baselines3 import PPO, DQN # out-of-the-box PPO model \n",
    "import gymnasium as gym # off-the-shelf generic environment\n",
    "from stable_baselines3.common.env_util import make_vec_env\n",
    "import matplotlib.pyplot as plt\n",
    "import pickle as pkl\n"
   ]
  },
  {
   "cell_type": "code",
   "execution_count": null,
   "metadata": {},
   "outputs": [],
   "source": [
    "# Initialize environment\n",
    "# pick the number of city locations\n",
    "N = 80\n",
    "T = 24\n",
    "poly_matrix = create_poly_matrix(N, T)\n",
    "\n",
    "# wrapper function for vectorized environments allowing for parallelization across CPU cores\n",
    "def make_env():\n",
    "    return CityEnv(poly_matrix=poly_matrix, N=N, time_horizon=T)\n",
    "\n",
    "env = make_vec_env(make_env, n_envs=50)"
   ]
  },
  {
   "cell_type": "code",
   "execution_count": null,
   "metadata": {},
   "outputs": [],
   "source": [
    "# Initialize benchmark set and savefile for model\n",
    "benchmark_size = 100\n",
    "# choose random destinations, starting nodes and starting times\n",
    "destination_set = [np.random.choice([0, 1], size=N) for i in range(benchmark_size)]\n",
    "start_node_set = np.random.choice(np.arange(N), size = benchmark_size)\n",
    "start_time_set = np.random.uniform(low = 0, high = 24, size = benchmark_size)\n",
    "savefile_name = 'N80_prod_run'"
   ]
  },
  {
   "cell_type": "code",
   "execution_count": null,
   "metadata": {},
   "outputs": [],
   "source": [
    "# save critical environment parameters and benchmark set for future analysis\n",
    "f = open(f'poly_matrix_{savefile_name}.pkl', 'wb')\n",
    "pkl.dump(poly_matrix, f)\n",
    "f.close()\n",
    "\n",
    "f = open(f'destination_set_{savefile_name}.pkl', 'wb')\n",
    "pkl.dump(poly_matrix, f)\n",
    "f.close()\n",
    "\n",
    "f = open(f'start_node_set_{savefile_name}.pkl', 'wb')\n",
    "pkl.dump(poly_matrix, f)\n",
    "f.close()\n",
    "\n",
    "f = open(f'start_time_set_{savefile_name}.pkl', 'wb')\n",
    "pkl.dump(poly_matrix, f)\n",
    "f.close()\n"
   ]
  },
  {
   "cell_type": "code",
   "execution_count": null,
   "metadata": {},
   "outputs": [],
   "source": [
    "# define helper function for model evaluation\n",
    "def eval_func(model):\n",
    "    eval_env = CityEnv(poly_matrix=poly_matrix, N=N, time_horizon=T)\n",
    "    average_time = 0\n",
    "    average_reward = 0\n",
    "    # iterate through each element of the benchmark set\n",
    "    for i in range(benchmark_size):\n",
    "        benchmark_element = {\n",
    "        \"destinations\": destination_set[i].copy(),\n",
    "        \"current_time\": start_time_set[i],\n",
    "        \"current_node\": start_node_set[i] }\n",
    "        obs, _ = eval_env.reset(eval_params=benchmark_element or {})\n",
    "        done = False\n",
    "        truncated = False\n",
    "        total_trajectory_reward = 0.0\n",
    "        while not (done or truncated):\n",
    "            #print(obs)\n",
    "            action, _ = model.predict(obs, deterministic=True)\n",
    "            #print(action)\n",
    "            obs, reward, done, truncated, _ = eval_env.step(action)\n",
    "            \n",
    "            total_trajectory_reward += reward\n",
    "            if truncated and not done:\n",
    "                # throw a warning if a trajectory ends due to reaching max_steps\n",
    "                # rather than successfully visiting every destination.\n",
    "                print(f'WARNING: TRUNCATION on benchmark example {i}')\n",
    "        average_time += (eval_env.current_time - start_time_set[i]) / benchmark_size\n",
    "        average_reward += total_trajectory_reward / benchmark_size\n",
    "\n",
    "    return average_time, average_reward"
   ]
  },
  {
   "cell_type": "code",
   "execution_count": null,
   "metadata": {},
   "outputs": [],
   "source": [
    "# helper function for poly_matrix visualization\n",
    "def visualize_poly_matrix(poly_matrix):\n",
    "  for i in range(N):\n",
    "    for j in range(N):\n",
    "      vals = [poly_matrix[i][j].eval(t) for t in range(T)]\n",
    "      plt.plot(vals, label=f\"poly_matrix[{i}][{j}]\")\n",
    "  plt.show()"
   ]
  },
  {
   "cell_type": "code",
   "execution_count": 28,
   "metadata": {},
   "outputs": [],
   "source": [
    "# create and save model\n",
    "model = PPO(\"MlpPolicy\", env, verbose=0)\n",
    "model.save(savefile_name)"
   ]
  },
  {
   "cell_type": "code",
   "execution_count": null,
   "metadata": {},
   "outputs": [],
   "source": [
    "# core training loop\n",
    "benchmark_average_travel_times = []\n",
    "benchmark_average_rewards = []\n",
    "for i in range(50):\n",
    "    print('Training epoch: ', i)\n",
    "    model = PPO.load(savefile_name, env = env)\n",
    "    model.learn(total_timesteps=500_000)\n",
    "    benchmark_time, average_reward = eval_func(model)\n",
    "    print('Benchmark time', benchmark_time, 'Average reward', average_reward)\n",
    "    benchmark_average_travel_times.append(benchmark_time)\n",
    "    benchmark_average_rewards.append(average_reward)\n",
    "    model.save(savefile_name)"
   ]
  },
  {
   "cell_type": "code",
   "execution_count": null,
   "metadata": {},
   "outputs": [],
   "source": [
    "# extract runtimes for histogram creation\n",
    "times = []\n",
    "eval_env = CityEnv(poly_matrix=poly_matrix, N=N, time_horizon=T)\n",
    "for i in range(benchmark_size):\n",
    "  benchmark_element = {\n",
    "  \"destinations\": destination_set[i].copy(),\n",
    "  \"current_time\": start_time_set[i],\n",
    "  \"current_node\": start_node_set[i] }\n",
    "  obs, _ = eval_env.reset(eval_params=benchmark_element or {})\n",
    "  done = False\n",
    "  truncated = False\n",
    "  while not (done or truncated):\n",
    "    #print(obs)\n",
    "    action, _ = model.predict(obs, deterministic=True)\n",
    "    #print(action)\n",
    "    obs, reward, done, truncated, _ = eval_env.step(action)\n",
    "    if truncated and not done:\n",
    "        print(f'WARNING: TRUNCATION on benchmark example {i}')\n",
    "  times.append(eval_env.current_time - start_time_set[i])"
   ]
  }
 ],
 "metadata": {
  "kernelspec": {
   "display_name": "Python 3",
   "language": "python",
   "name": "python3"
  },
  "language_info": {
   "codemirror_mode": {
    "name": "ipython",
    "version": 3
   },
   "file_extension": ".py",
   "mimetype": "text/x-python",
   "name": "python",
   "nbconvert_exporter": "python",
   "pygments_lexer": "ipython3",
   "version": "3.10.9"
  }
 },
 "nbformat": 4,
 "nbformat_minor": 2
}
