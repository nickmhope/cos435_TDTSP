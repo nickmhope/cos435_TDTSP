{
 "cells": [
  {
   "cell_type": "code",
   "execution_count": 34,
   "metadata": {},
   "outputs": [
    {
     "name": "stdout",
     "output_type": "stream",
     "text": [
      "The autoreload extension is already loaded. To reload it, use:\n",
      "  %reload_ext autoreload\n"
     ]
    }
   ],
   "source": [
    "%load_ext autoreload\n",
    "%autoreload 2\n",
    "\n",
    "import numpy as np\n",
    "from poly_matrix import polynomial, create_poly_matrix\n",
    "from city_env import CityEnv  # make sure the env class is renamed properly if needed\n",
    "from stable_baselines3 import PPO\n",
    "import gymnasium as gym\n",
    "from stable_baselines3.common.env_util import make_vec_env\n",
    "import matplotlib.pyplot as plt"
   ]
  },
  {
   "cell_type": "code",
   "execution_count": 35,
   "metadata": {},
   "outputs": [],
   "source": [
    "# Initialize environment\n",
    "N = 40\n",
    "T = 24\n",
    "poly_matrix = create_poly_matrix(N, T)\n",
    "\n",
    "def make_env():\n",
    "    return CityEnv(poly_matrix=poly_matrix, N=N, time_horizon=T)\n",
    "\n",
    "env = make_vec_env(make_env, n_envs=50)"
   ]
  },
  {
   "cell_type": "code",
   "execution_count": 36,
   "metadata": {},
   "outputs": [],
   "source": [
    "# Initialize benchmark set and savefile for model\n",
    "benchmark_size = 100\n",
    "destination_set = [np.random.choice([0, 1], size=N) for i in range(benchmark_size)]\n",
    "start_node_set = np.random.choice(np.arange(N), size = benchmark_size)\n",
    "start_time_set = np.random.uniform(low = 0, high = 24, size = benchmark_size)\n",
    "savefile_name = 'N40_test'"
   ]
  },
  {
   "cell_type": "code",
   "execution_count": 46,
   "metadata": {},
   "outputs": [],
   "source": [
    "# define helper function for model evaluation\n",
    "def eval_func(model):\n",
    "    eval_env = CityEnv(poly_matrix=poly_matrix, N=N, time_horizon=T)\n",
    "    total_time = 0\n",
    "    for i in range(benchmark_size):\n",
    "        benchmark_element = {\n",
    "        \"destinations\": destination_set[i].copy(),\n",
    "        \"current_time\": start_time_set[i],\n",
    "        \"current_node\": start_node_set[i] }\n",
    "        obs, _ = eval_env.reset(eval_params=benchmark_element or {})\n",
    "        done = False\n",
    "        truncated = False\n",
    "        total_reward = 0.0\n",
    "\n",
    "        while not (done or truncated):\n",
    "            #print(obs)\n",
    "            action, _ = model.predict(obs, deterministic=True)\n",
    "            #print(action)\n",
    "            obs, reward, done, truncated, _ = eval_env.step(action)\n",
    "            \n",
    "            total_reward += reward\n",
    "            if truncated and not done:\n",
    "                print(f'WARNING: TRUNCATION on benchmark example {i}')\n",
    "        total_time += eval_env.current_time / benchmark_size\n",
    "        avg_reward = total_reward / benchmark_size\n",
    "\n",
    "    return total_time, avg_reward"
   ]
  },
  {
   "cell_type": "code",
   "execution_count": 38,
   "metadata": {},
   "outputs": [],
   "source": [
    "def visualize_poly_matrix(poly_matrix):\n",
    "  for i in range(N):\n",
    "    for j in range(N):\n",
    "      vals = [poly_matrix[i][j].eval(t) for t in range(T)]\n",
    "      plt.plot(vals, label=f\"poly_matrix[{i}][{j}]\")\n",
    "  plt.show()"
   ]
  },
  {
   "cell_type": "code",
   "execution_count": 42,
   "metadata": {},
   "outputs": [],
   "source": [
    "# create and save model\n",
    "model = PPO(\"MlpPolicy\", env, verbose=0)\n",
    "model.save(savefile_name)"
   ]
  },
  {
   "cell_type": "code",
   "execution_count": null,
   "metadata": {},
   "outputs": [
    {
     "name": "stdout",
     "output_type": "stream",
     "text": [
      "Training epoch:  0\n",
      "WARNING: TRUNCATION\n",
      "WARNING: TRUNCATION\n",
      "WARNING: TRUNCATION\n",
      "WARNING: TRUNCATION\n",
      "WARNING: TRUNCATION\n",
      "WARNING: TRUNCATION\n",
      "WARNING: TRUNCATION\n",
      "WARNING: TRUNCATION\n",
      "WARNING: TRUNCATION\n",
      "WARNING: TRUNCATION\n",
      "WARNING: TRUNCATION\n",
      "WARNING: TRUNCATION\n",
      "WARNING: TRUNCATION\n",
      "WARNING: TRUNCATION\n",
      "WARNING: TRUNCATION\n",
      "WARNING: TRUNCATION\n",
      "WARNING: TRUNCATION\n",
      "WARNING: TRUNCATION\n",
      "WARNING: TRUNCATION\n",
      "WARNING: TRUNCATION\n",
      "WARNING: TRUNCATION\n",
      "WARNING: TRUNCATION\n",
      "WARNING: TRUNCATION\n",
      "WARNING: TRUNCATION\n",
      "WARNING: TRUNCATION\n",
      "WARNING: TRUNCATION\n",
      "WARNING: TRUNCATION\n",
      "WARNING: TRUNCATION\n",
      "WARNING: TRUNCATION\n",
      "WARNING: TRUNCATION\n",
      "WARNING: TRUNCATION\n",
      "WARNING: TRUNCATION\n",
      "WARNING: TRUNCATION\n",
      "WARNING: TRUNCATION\n",
      "WARNING: TRUNCATION\n",
      "WARNING: TRUNCATION\n",
      "WARNING: TRUNCATION\n",
      "WARNING: TRUNCATION\n",
      "WARNING: TRUNCATION\n",
      "WARNING: TRUNCATION\n",
      "WARNING: TRUNCATION\n",
      "WARNING: TRUNCATION\n",
      "WARNING: TRUNCATION\n",
      "WARNING: TRUNCATION\n",
      "WARNING: TRUNCATION\n",
      "WARNING: TRUNCATION\n",
      "WARNING: TRUNCATION\n",
      "WARNING: TRUNCATION\n",
      "WARNING: TRUNCATION\n",
      "WARNING: TRUNCATION\n",
      "WARNING: TRUNCATION\n",
      "WARNING: TRUNCATION\n",
      "WARNING: TRUNCATION\n",
      "WARNING: TRUNCATION\n",
      "WARNING: TRUNCATION\n",
      "WARNING: TRUNCATION\n",
      "WARNING: TRUNCATION\n",
      "WARNING: TRUNCATION\n",
      "WARNING: TRUNCATION\n",
      "WARNING: TRUNCATION\n",
      "WARNING: TRUNCATION\n",
      "WARNING: TRUNCATION\n",
      "WARNING: TRUNCATION\n",
      "WARNING: TRUNCATION\n",
      "WARNING: TRUNCATION\n",
      "WARNING: TRUNCATION\n",
      "WARNING: TRUNCATION\n",
      "WARNING: TRUNCATION\n",
      "WARNING: TRUNCATION\n",
      "WARNING: TRUNCATION\n",
      "WARNING: TRUNCATION\n",
      "WARNING: TRUNCATION\n",
      "WARNING: TRUNCATION\n",
      "WARNING: TRUNCATION\n",
      "WARNING: TRUNCATION\n",
      "WARNING: TRUNCATION\n",
      "WARNING: TRUNCATION\n",
      "WARNING: TRUNCATION\n",
      "WARNING: TRUNCATION\n",
      "WARNING: TRUNCATION\n",
      "WARNING: TRUNCATION\n",
      "WARNING: TRUNCATION\n",
      "WARNING: TRUNCATION\n",
      "WARNING: TRUNCATION\n",
      "WARNING: TRUNCATION\n",
      "WARNING: TRUNCATION\n",
      "WARNING: TRUNCATION\n",
      "WARNING: TRUNCATION\n",
      "WARNING: TRUNCATION\n",
      "WARNING: TRUNCATION\n",
      "WARNING: TRUNCATION\n",
      "WARNING: TRUNCATION\n",
      "WARNING: TRUNCATION\n",
      "WARNING: TRUNCATION\n",
      "WARNING: TRUNCATION\n",
      "WARNING: TRUNCATION\n",
      "WARNING: TRUNCATION\n",
      "WARNING: TRUNCATION\n",
      "WARNING: TRUNCATION\n",
      "WARNING: TRUNCATION\n",
      "(70087.91437540164, -3187.181703489226)\n",
      "Training epoch:  1\n"
     ]
    },
    {
     "ename": "KeyboardInterrupt",
     "evalue": "",
     "output_type": "error",
     "traceback": [
      "\u001b[0;31m---------------------------------------------------------------------------\u001b[0m",
      "\u001b[0;31mKeyboardInterrupt\u001b[0m                         Traceback (most recent call last)",
      "Cell \u001b[0;32mIn[45], line 5\u001b[0m\n\u001b[1;32m      3\u001b[0m \u001b[38;5;28mprint\u001b[39m(\u001b[38;5;124m'\u001b[39m\u001b[38;5;124mTraining epoch: \u001b[39m\u001b[38;5;124m'\u001b[39m, i)\n\u001b[1;32m      4\u001b[0m model \u001b[38;5;241m=\u001b[39m PPO\u001b[38;5;241m.\u001b[39mload(savefile_name, env \u001b[38;5;241m=\u001b[39m env)\n\u001b[0;32m----> 5\u001b[0m \u001b[43mmodel\u001b[49m\u001b[38;5;241;43m.\u001b[39;49m\u001b[43mlearn\u001b[49m\u001b[43m(\u001b[49m\u001b[43mtotal_timesteps\u001b[49m\u001b[38;5;241;43m=\u001b[39;49m\u001b[38;5;241;43m10_000\u001b[39;49m\u001b[43m)\u001b[49m\n\u001b[1;32m      6\u001b[0m time \u001b[38;5;241m=\u001b[39m eval_func(model)\n\u001b[1;32m      7\u001b[0m \u001b[38;5;28mprint\u001b[39m(time)\n",
      "File \u001b[0;32m/usr/local/lib/python3.10/site-packages/stable_baselines3/ppo/ppo.py:311\u001b[0m, in \u001b[0;36mPPO.learn\u001b[0;34m(self, total_timesteps, callback, log_interval, tb_log_name, reset_num_timesteps, progress_bar)\u001b[0m\n\u001b[1;32m    302\u001b[0m \u001b[38;5;28;01mdef\u001b[39;00m \u001b[38;5;21mlearn\u001b[39m(\n\u001b[1;32m    303\u001b[0m     \u001b[38;5;28mself\u001b[39m: SelfPPO,\n\u001b[1;32m    304\u001b[0m     total_timesteps: \u001b[38;5;28mint\u001b[39m,\n\u001b[0;32m   (...)\u001b[0m\n\u001b[1;32m    309\u001b[0m     progress_bar: \u001b[38;5;28mbool\u001b[39m \u001b[38;5;241m=\u001b[39m \u001b[38;5;28;01mFalse\u001b[39;00m,\n\u001b[1;32m    310\u001b[0m ) \u001b[38;5;241m-\u001b[39m\u001b[38;5;241m>\u001b[39m SelfPPO:\n\u001b[0;32m--> 311\u001b[0m     \u001b[38;5;28;01mreturn\u001b[39;00m \u001b[38;5;28;43msuper\u001b[39;49m\u001b[43m(\u001b[49m\u001b[43m)\u001b[49m\u001b[38;5;241;43m.\u001b[39;49m\u001b[43mlearn\u001b[49m\u001b[43m(\u001b[49m\n\u001b[1;32m    312\u001b[0m \u001b[43m        \u001b[49m\u001b[43mtotal_timesteps\u001b[49m\u001b[38;5;241;43m=\u001b[39;49m\u001b[43mtotal_timesteps\u001b[49m\u001b[43m,\u001b[49m\n\u001b[1;32m    313\u001b[0m \u001b[43m        \u001b[49m\u001b[43mcallback\u001b[49m\u001b[38;5;241;43m=\u001b[39;49m\u001b[43mcallback\u001b[49m\u001b[43m,\u001b[49m\n\u001b[1;32m    314\u001b[0m \u001b[43m        \u001b[49m\u001b[43mlog_interval\u001b[49m\u001b[38;5;241;43m=\u001b[39;49m\u001b[43mlog_interval\u001b[49m\u001b[43m,\u001b[49m\n\u001b[1;32m    315\u001b[0m \u001b[43m        \u001b[49m\u001b[43mtb_log_name\u001b[49m\u001b[38;5;241;43m=\u001b[39;49m\u001b[43mtb_log_name\u001b[49m\u001b[43m,\u001b[49m\n\u001b[1;32m    316\u001b[0m \u001b[43m        \u001b[49m\u001b[43mreset_num_timesteps\u001b[49m\u001b[38;5;241;43m=\u001b[39;49m\u001b[43mreset_num_timesteps\u001b[49m\u001b[43m,\u001b[49m\n\u001b[1;32m    317\u001b[0m \u001b[43m        \u001b[49m\u001b[43mprogress_bar\u001b[49m\u001b[38;5;241;43m=\u001b[39;49m\u001b[43mprogress_bar\u001b[49m\u001b[43m,\u001b[49m\n\u001b[1;32m    318\u001b[0m \u001b[43m    \u001b[49m\u001b[43m)\u001b[49m\n",
      "File \u001b[0;32m/usr/local/lib/python3.10/site-packages/stable_baselines3/common/on_policy_algorithm.py:336\u001b[0m, in \u001b[0;36mOnPolicyAlgorithm.learn\u001b[0;34m(self, total_timesteps, callback, log_interval, tb_log_name, reset_num_timesteps, progress_bar)\u001b[0m\n\u001b[1;32m    333\u001b[0m         \u001b[38;5;28;01massert\u001b[39;00m \u001b[38;5;28mself\u001b[39m\u001b[38;5;241m.\u001b[39mep_info_buffer \u001b[38;5;129;01mis\u001b[39;00m \u001b[38;5;129;01mnot\u001b[39;00m \u001b[38;5;28;01mNone\u001b[39;00m\n\u001b[1;32m    334\u001b[0m         \u001b[38;5;28mself\u001b[39m\u001b[38;5;241m.\u001b[39m_dump_logs(iteration)\n\u001b[0;32m--> 336\u001b[0m     \u001b[38;5;28;43mself\u001b[39;49m\u001b[38;5;241;43m.\u001b[39;49m\u001b[43mtrain\u001b[49m\u001b[43m(\u001b[49m\u001b[43m)\u001b[49m\n\u001b[1;32m    338\u001b[0m callback\u001b[38;5;241m.\u001b[39mon_training_end()\n\u001b[1;32m    340\u001b[0m \u001b[38;5;28;01mreturn\u001b[39;00m \u001b[38;5;28mself\u001b[39m\n",
      "File \u001b[0;32m/usr/local/lib/python3.10/site-packages/stable_baselines3/ppo/ppo.py:275\u001b[0m, in \u001b[0;36mPPO.train\u001b[0;34m(self)\u001b[0m\n\u001b[1;32m    273\u001b[0m \u001b[38;5;66;03m# Optimization step\u001b[39;00m\n\u001b[1;32m    274\u001b[0m \u001b[38;5;28mself\u001b[39m\u001b[38;5;241m.\u001b[39mpolicy\u001b[38;5;241m.\u001b[39moptimizer\u001b[38;5;241m.\u001b[39mzero_grad()\n\u001b[0;32m--> 275\u001b[0m \u001b[43mloss\u001b[49m\u001b[38;5;241;43m.\u001b[39;49m\u001b[43mbackward\u001b[49m\u001b[43m(\u001b[49m\u001b[43m)\u001b[49m\n\u001b[1;32m    276\u001b[0m \u001b[38;5;66;03m# Clip grad norm\u001b[39;00m\n\u001b[1;32m    277\u001b[0m th\u001b[38;5;241m.\u001b[39mnn\u001b[38;5;241m.\u001b[39mutils\u001b[38;5;241m.\u001b[39mclip_grad_norm_(\u001b[38;5;28mself\u001b[39m\u001b[38;5;241m.\u001b[39mpolicy\u001b[38;5;241m.\u001b[39mparameters(), \u001b[38;5;28mself\u001b[39m\u001b[38;5;241m.\u001b[39mmax_grad_norm)\n",
      "File \u001b[0;32m/usr/local/lib/python3.10/site-packages/torch/_tensor.py:487\u001b[0m, in \u001b[0;36mTensor.backward\u001b[0;34m(self, gradient, retain_graph, create_graph, inputs)\u001b[0m\n\u001b[1;32m    477\u001b[0m \u001b[38;5;28;01mif\u001b[39;00m has_torch_function_unary(\u001b[38;5;28mself\u001b[39m):\n\u001b[1;32m    478\u001b[0m     \u001b[38;5;28;01mreturn\u001b[39;00m handle_torch_function(\n\u001b[1;32m    479\u001b[0m         Tensor\u001b[38;5;241m.\u001b[39mbackward,\n\u001b[1;32m    480\u001b[0m         (\u001b[38;5;28mself\u001b[39m,),\n\u001b[0;32m   (...)\u001b[0m\n\u001b[1;32m    485\u001b[0m         inputs\u001b[38;5;241m=\u001b[39minputs,\n\u001b[1;32m    486\u001b[0m     )\n\u001b[0;32m--> 487\u001b[0m \u001b[43mtorch\u001b[49m\u001b[38;5;241;43m.\u001b[39;49m\u001b[43mautograd\u001b[49m\u001b[38;5;241;43m.\u001b[39;49m\u001b[43mbackward\u001b[49m\u001b[43m(\u001b[49m\n\u001b[1;32m    488\u001b[0m \u001b[43m    \u001b[49m\u001b[38;5;28;43mself\u001b[39;49m\u001b[43m,\u001b[49m\u001b[43m \u001b[49m\u001b[43mgradient\u001b[49m\u001b[43m,\u001b[49m\u001b[43m \u001b[49m\u001b[43mretain_graph\u001b[49m\u001b[43m,\u001b[49m\u001b[43m \u001b[49m\u001b[43mcreate_graph\u001b[49m\u001b[43m,\u001b[49m\u001b[43m \u001b[49m\u001b[43minputs\u001b[49m\u001b[38;5;241;43m=\u001b[39;49m\u001b[43minputs\u001b[49m\n\u001b[1;32m    489\u001b[0m \u001b[43m\u001b[49m\u001b[43m)\u001b[49m\n",
      "File \u001b[0;32m/usr/local/lib/python3.10/site-packages/torch/autograd/__init__.py:200\u001b[0m, in \u001b[0;36mbackward\u001b[0;34m(tensors, grad_tensors, retain_graph, create_graph, grad_variables, inputs)\u001b[0m\n\u001b[1;32m    195\u001b[0m     retain_graph \u001b[38;5;241m=\u001b[39m create_graph\n\u001b[1;32m    197\u001b[0m \u001b[38;5;66;03m# The reason we repeat same the comment below is that\u001b[39;00m\n\u001b[1;32m    198\u001b[0m \u001b[38;5;66;03m# some Python versions print out the first line of a multi-line function\u001b[39;00m\n\u001b[1;32m    199\u001b[0m \u001b[38;5;66;03m# calls in the traceback and some print out the last line\u001b[39;00m\n\u001b[0;32m--> 200\u001b[0m \u001b[43mVariable\u001b[49m\u001b[38;5;241;43m.\u001b[39;49m\u001b[43m_execution_engine\u001b[49m\u001b[38;5;241;43m.\u001b[39;49m\u001b[43mrun_backward\u001b[49m\u001b[43m(\u001b[49m\u001b[43m  \u001b[49m\u001b[38;5;66;43;03m# Calls into the C++ engine to run the backward pass\u001b[39;49;00m\n\u001b[1;32m    201\u001b[0m \u001b[43m    \u001b[49m\u001b[43mtensors\u001b[49m\u001b[43m,\u001b[49m\u001b[43m \u001b[49m\u001b[43mgrad_tensors_\u001b[49m\u001b[43m,\u001b[49m\u001b[43m \u001b[49m\u001b[43mretain_graph\u001b[49m\u001b[43m,\u001b[49m\u001b[43m \u001b[49m\u001b[43mcreate_graph\u001b[49m\u001b[43m,\u001b[49m\u001b[43m \u001b[49m\u001b[43minputs\u001b[49m\u001b[43m,\u001b[49m\n\u001b[1;32m    202\u001b[0m \u001b[43m    \u001b[49m\u001b[43mallow_unreachable\u001b[49m\u001b[38;5;241;43m=\u001b[39;49m\u001b[38;5;28;43;01mTrue\u001b[39;49;00m\u001b[43m,\u001b[49m\u001b[43m \u001b[49m\u001b[43maccumulate_grad\u001b[49m\u001b[38;5;241;43m=\u001b[39;49m\u001b[38;5;28;43;01mTrue\u001b[39;49;00m\u001b[43m)\u001b[49m\n",
      "\u001b[0;31mKeyboardInterrupt\u001b[0m: "
     ]
    }
   ],
   "source": [
    "benchmark_average_travel_times = []\n",
    "benchmark_average_rewards = []\n",
    "for i in range(50):\n",
    "    print('Training epoch: ', i)\n",
    "    model = PPO.load(savefile_name, env = env)\n",
    "    model.learn(total_timesteps=10_000)\n",
    "    benchmark_time, average_reward = eval_func(model)\n",
    "    print('Benchmark time', benchmark_time, 'Average reward', average_reward)\n",
    "    benchmark_average_travel_times.append(benchmark_time)\n",
    "    benchmark_average_rewards.append(average_reward)\n",
    "    model.save(savefile_name)"
   ]
  }
 ],
 "metadata": {
  "kernelspec": {
   "display_name": "Python 3",
   "language": "python",
   "name": "python3"
  },
  "language_info": {
   "codemirror_mode": {
    "name": "ipython",
    "version": 3
   },
   "file_extension": ".py",
   "mimetype": "text/x-python",
   "name": "python",
   "nbconvert_exporter": "python",
   "pygments_lexer": "ipython3",
   "version": "3.10.9"
  }
 },
 "nbformat": 4,
 "nbformat_minor": 2
}
